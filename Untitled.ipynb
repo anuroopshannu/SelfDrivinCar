{
 "cells": [
  {
   "cell_type": "code",
   "execution_count": 1,
   "metadata": {},
   "outputs": [
    {
     "name": "stderr",
     "output_type": "stream",
     "text": [
      "/home/anuroop/anaconda3/lib/python3.6/site-packages/sklearn/neural_network/multilayer_perceptron.py:904: DataConversionWarning: A column-vector y was passed when a 1d array was expected. Please change the shape of y to (n_samples, ), for example using ravel().\n",
      "  y = column_or_1d(y, warn=True)\n"
     ]
    },
    {
     "name": "stdout",
     "output_type": "stream",
     "text": [
      "Iteration 1, loss = 1.22126422\n",
      "Iteration 2, loss = 1.13062155\n",
      "Iteration 3, loss = 1.05867811\n",
      "Iteration 4, loss = 1.00051125\n",
      "Iteration 5, loss = 0.96041532\n",
      "Iteration 6, loss = 0.93775544\n",
      "Iteration 7, loss = 0.92727059\n",
      "Iteration 8, loss = 0.91222074\n",
      "Iteration 9, loss = 0.90300377\n",
      "Iteration 10, loss = 0.89265316\n",
      "Iteration 11, loss = 0.88530591\n",
      "Iteration 12, loss = 0.87681186\n",
      "Iteration 13, loss = 0.86876334\n",
      "Iteration 14, loss = 0.86464864\n",
      "Iteration 15, loss = 0.85695581\n",
      "Iteration 16, loss = 0.85495921\n",
      "Iteration 17, loss = 0.84677970\n",
      "Iteration 18, loss = 0.83559208\n",
      "Iteration 19, loss = 0.83247487\n",
      "Iteration 20, loss = 0.82560612\n",
      "Iteration 21, loss = 0.81991650\n",
      "Iteration 22, loss = 0.81292377\n",
      "Iteration 23, loss = 0.81257510\n",
      "Iteration 24, loss = 0.80406947\n",
      "Iteration 25, loss = 0.79997412\n",
      "Iteration 26, loss = 0.79336548\n",
      "Iteration 27, loss = 0.78850017\n",
      "Iteration 28, loss = 0.78280515\n",
      "Iteration 29, loss = 0.77662311\n",
      "Iteration 30, loss = 0.77181710\n",
      "Iteration 31, loss = 0.77015631\n",
      "Iteration 32, loss = 0.75951267\n",
      "Iteration 33, loss = 0.76685523\n",
      "Iteration 34, loss = 0.75154766\n",
      "Iteration 35, loss = 0.75077946\n",
      "Iteration 36, loss = 0.74654063\n",
      "Iteration 37, loss = 0.74283706\n",
      "Iteration 38, loss = 0.73657694\n",
      "Iteration 39, loss = 0.73295691\n",
      "Iteration 40, loss = 0.73184369\n",
      "Iteration 41, loss = 0.73300988\n",
      "Iteration 42, loss = 0.72659617\n",
      "Iteration 43, loss = 0.71824816\n",
      "Iteration 44, loss = 0.71552315\n",
      "Iteration 45, loss = 0.71293874\n",
      "Iteration 46, loss = 0.71336337\n",
      "Iteration 47, loss = 0.70596631\n",
      "Iteration 48, loss = 0.71091911\n",
      "Iteration 49, loss = 0.70409193\n",
      "Iteration 50, loss = 0.70310995\n",
      "Iteration 51, loss = 0.69951609\n",
      "Iteration 52, loss = 0.70660526\n",
      "Iteration 53, loss = 0.70058000\n",
      "Iteration 54, loss = 0.69675259\n",
      "Iteration 55, loss = 0.69510769\n",
      "Iteration 56, loss = 0.68563524\n",
      "Iteration 57, loss = 0.68248857\n",
      "Iteration 58, loss = 0.68999035\n",
      "Iteration 59, loss = 0.67906841\n",
      "Iteration 60, loss = 0.67229308\n",
      "Iteration 61, loss = 0.67307748\n",
      "Iteration 62, loss = 0.68197630\n",
      "Iteration 63, loss = 0.67245749\n",
      "Training loss did not improve more than tol=0.000100 for two consecutive epochs. Stopping.\n",
      "Training set score: 0.724130\n"
     ]
    },
    {
     "data": {
      "text/plain": [
       "array([ 1.,  2.,  4., ...,  4.,  4.,  4.])"
      ]
     },
     "execution_count": 1,
     "metadata": {},
     "output_type": "execute_result"
    }
   ],
   "source": [
    "import numpy as np  \n",
    "import pandas as pd  \n",
    "import matplotlib.pyplot as plt  \n",
    "from scipy.io import loadmat  \n",
    "%matplotlib inline\n",
    "from sklearn.neural_network import MLPClassifier\n",
    "from sklearn.preprocessing import OneHotEncoder\n",
    "\n",
    "data = loadmat('data2.mat')  \n",
    "Xtrain = data['m'] \n",
    "Xtrain = [(x/255.0) for x in Xtrain]\n",
    "ytrain = data['y'] \n",
    "Xtrain = np.matrix(Xtrain)\n",
    "\n",
    "encoder=OneHotEncoder(sparse=False)\n",
    "y_onehot_train=encoder.fit_transform(ytrain)\n",
    "clf=MLPClassifier(hidden_layer_sizes=(500,500,), max_iter=200, alpha=1e-4,solver='sgd', verbose=5, random_state=1,learning_rate_init=.01)\n",
    "\n",
    "clf.fit(Xtrain,ytrain)\n",
    "\n",
    "print(\"Training set score: %f\" % clf.score(Xtrain, ytrain))\n",
    "\n",
    "clf.predict(Xtrain)"
   ]
  },
  {
   "cell_type": "code",
   "execution_count": 2,
   "metadata": {
    "collapsed": true
   },
   "outputs": [],
   "source": [
    "import pickle\n",
    "\n"
   ]
  },
  {
   "cell_type": "code",
   "execution_count": 3,
   "metadata": {
    "collapsed": true
   },
   "outputs": [],
   "source": [
    "pickle.dump(clf,open(\"car2.txt\",\"wb\"))"
   ]
  },
  {
   "cell_type": "code",
   "execution_count": 4,
   "metadata": {
    "collapsed": true
   },
   "outputs": [],
   "source": [
    "p=clf.predict(Xtrain)\n"
   ]
  },
  {
   "cell_type": "code",
   "execution_count": 5,
   "metadata": {},
   "outputs": [
    {
     "data": {
      "text/plain": [
       "array([ 1.,  2.,  4., ...,  4.,  4.,  4.])"
      ]
     },
     "execution_count": 5,
     "metadata": {},
     "output_type": "execute_result"
    }
   ],
   "source": [
    "p"
   ]
  },
  {
   "cell_type": "code",
   "execution_count": 6,
   "metadata": {
    "collapsed": true
   },
   "outputs": [],
   "source": [
    "ones = 0\n",
    "twos=0\n",
    "threes = 0\n",
    "fours =0\n",
    "for x in np.nditer(p):\n",
    "    if(x==1.0):\n",
    "        ones+=1\n",
    "    if(x==2.0):\n",
    "        twos+=1\n",
    "    if(x==3.0):\n",
    "        threes+=1\n",
    "    if(x==4.0):\n",
    "        fours+=1\n",
    "    "
   ]
  },
  {
   "cell_type": "code",
   "execution_count": 7,
   "metadata": {},
   "outputs": [
    {
     "data": {
      "text/plain": [
       "830"
      ]
     },
     "execution_count": 7,
     "metadata": {},
     "output_type": "execute_result"
    }
   ],
   "source": [
    "fours"
   ]
  },
  {
   "cell_type": "raw",
   "metadata": {},
   "source": []
  },
  {
   "cell_type": "raw",
   "metadata": {},
   "source": []
  },
  {
   "cell_type": "code",
   "execution_count": null,
   "metadata": {
    "collapsed": true
   },
   "outputs": [],
   "source": []
  }
 ],
 "metadata": {
  "kernelspec": {
   "display_name": "Python 3",
   "language": "python",
   "name": "python3"
  },
  "language_info": {
   "codemirror_mode": {
    "name": "ipython",
    "version": 3
   },
   "file_extension": ".py",
   "mimetype": "text/x-python",
   "name": "python",
   "nbconvert_exporter": "python",
   "pygments_lexer": "ipython3",
   "version": "3.6.1"
  }
 },
 "nbformat": 4,
 "nbformat_minor": 2
}
